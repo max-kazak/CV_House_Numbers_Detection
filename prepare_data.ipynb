{
 "cells": [
  {
   "cell_type": "code",
   "execution_count": 1,
   "metadata": {},
   "outputs": [],
   "source": [
    "import numpy as np\n",
    "import scipy as sp\n",
    "import json\n",
    "from PIL import Image\n",
    "from matplotlib import pyplot as plt\n",
    "from scipy.misc import imresize"
   ]
  },
  {
   "cell_type": "code",
   "execution_count": 2,
   "metadata": {},
   "outputs": [],
   "source": [
    "TRAIN_PATH = 'data/train/'\n",
    "TRAIN_DIGITSTRUCT = 'data/train_ds.json'\n",
    "DIGIT_RATIO = 24./32"
   ]
  },
  {
   "cell_type": "code",
   "execution_count": 3,
   "metadata": {},
   "outputs": [
    {
     "name": "stdout",
     "output_type": "stream",
     "text": [
      "33402\n"
     ]
    }
   ],
   "source": [
    "with open(TRAIN_DIGITSTRUCT, 'r') as f:\n",
    "    train_ds = json.load(f)\n",
    "print(len(train_ds))"
   ]
  },
  {
   "cell_type": "code",
   "execution_count": 4,
   "metadata": {},
   "outputs": [
    {
     "data": {
      "text/plain": [
       "{'filename': '45.png',\n",
       " 'boxes': [{'height': 31.0,\n",
       "   'label': 1.0,\n",
       "   'left': 35.0,\n",
       "   'top': 3.0,\n",
       "   'width': 8.0},\n",
       "  {'height': 31.0, 'label': 10.0, 'left': 44.0, 'top': 4.0, 'width': 12.0}]}"
      ]
     },
     "execution_count": 4,
     "metadata": {},
     "output_type": "execute_result"
    }
   ],
   "source": [
    "sample = train_ds[44]\n",
    "sample"
   ]
  },
  {
   "cell_type": "code",
   "execution_count": 5,
   "metadata": {},
   "outputs": [
    {
     "data": {
      "text/plain": [
       "<matplotlib.image.AxesImage at 0x7f3f7789b0f0>"
      ]
     },
     "execution_count": 5,
     "metadata": {},
     "output_type": "execute_result"
    },
    {
     "data": {
      "image/png": "[encoded data removed]",
      "text/plain": [
       "<Figure size 432x288 with 1 Axes>"
      ]
     },
     "metadata": {
      "needs_background": "light"
     },
     "output_type": "display_data"
    }
   ],
   "source": [
    "im = np.array(Image.open(TRAIN_PATH + sample['filename']))\n",
    "plt.imshow(im)"
   ]
  },
  {
   "cell_type": "code",
   "execution_count": 6,
   "metadata": {},
   "outputs": [
    {
     "name": "stdout",
     "output_type": "stream",
     "text": [
      "0\n"
     ]
    },
    {
     "name": "stderr",
     "output_type": "stream",
     "text": [
      "/home/max/anaconda3/envs/cv_proj/lib/python3.6/site-packages/ipykernel/__main__.py:3: DeprecationWarning: `imresize` is deprecated!\n",
      "`imresize` is deprecated in SciPy 1.0.0, and will be removed in 1.2.0.\n",
      "Use ``skimage.transform.resize`` instead.\n",
      "  app.launch_new_instance()\n"
     ]
    },
    {
     "name": "stdout",
     "output_type": "stream",
     "text": [
      "1000\n",
      "2000\n",
      "3000\n",
      "4000\n",
      "5000\n",
      "6000\n",
      "7000\n",
      "8000\n",
      "9000\n",
      "10000\n",
      "11000\n",
      "12000\n",
      "13000\n",
      "14000\n",
      "15000\n",
      "16000\n",
      "17000\n",
      "18000\n",
      "19000\n",
      "20000\n",
      "21000\n",
      "22000\n",
      "23000\n",
      "24000\n",
      "25000\n",
      "26000\n",
      "27000\n",
      "28000\n",
      "29000\n",
      "30000\n",
      "31000\n",
      "32000\n",
      "33000\n",
      "136157 cuts total\n",
      "done!\n"
     ]
    }
   ],
   "source": [
    "def preprocess(img):\n",
    "    try:\n",
    "        img = imresize(img, (32, 24))\n",
    "        img = img.astype(np.float32) / np.max(img)\n",
    "    except:\n",
    "        return None\n",
    "    return img\n",
    "\n",
    "def gen_cuts(image, boxes):\n",
    "    cuts = []\n",
    "    labels = []\n",
    "    \n",
    "    number_left = image.shape[1]\n",
    "    number_right = 0\n",
    "    number_top = image.shape[0]\n",
    "    number_bottom = 0\n",
    "    \n",
    "    na_w = 0\n",
    "    na_h = 0\n",
    "    \n",
    "    for box in boxes:\n",
    "        middle = int(box['left'] + box['width'] / 2)\n",
    "        height = int(box['height'])\n",
    "        width = int(height * DIGIT_RATIO)\n",
    "        left = int(middle - width/2)\n",
    "        right = left + width\n",
    "        top = int(box['top'])\n",
    "        bottom = top + height\n",
    "        \n",
    "        if left < number_left: number_left = left\n",
    "        if right > number_right: number_right = right\n",
    "        if top < number_top: number_top = top\n",
    "        if bottom > number_bottom: number_bottom = bottom\n",
    "        if na_w == 0: na_w = width\n",
    "        if na_h == 0: na_h = height\n",
    "        \n",
    "        cut = im[top:bottom, left:right]\n",
    "        cut = preprocess(cut)\n",
    "        \n",
    "        if cut is None:\n",
    "            continue\n",
    "        \n",
    "        cuts.append(cut)\n",
    "        label = box['label'] if box['label'] != 10 else 0\n",
    "        labels.append(int(label))\n",
    "    \n",
    "    for left in range(0, image.shape[1]-na_w, na_w):\n",
    "        if (left+na_w < number_left) or (left > number_right):\n",
    "            cut = im[0:na_h, left:left+na_w]\n",
    "            cut = preprocess(cut)\n",
    "\n",
    "            if cut is None:\n",
    "                continue\n",
    "            cuts.append(cut)\n",
    "            labels.append(10)\n",
    "    \n",
    "\n",
    "    return cuts, labels\n",
    "\n",
    "all_cuts = []\n",
    "all_labels = []\n",
    "for i, sample in enumerate(train_ds):\n",
    "    if i % 1000 == 0: print(i)\n",
    "    im = np.array(Image.open(TRAIN_PATH + sample['filename']).convert('L'))\n",
    "    img_cuts, img_labels = gen_cuts(im, sample['boxes'])\n",
    "    all_cuts.extend(img_cuts)\n",
    "    all_labels.extend(img_labels)\n",
    "\n",
    "print(\"{} cuts total\".format(len(all_labels)))\n",
    "print('done!')\n",
    "    "
   ]
  },
  {
   "cell_type": "code",
   "execution_count": 7,
   "metadata": {},
   "outputs": [
    {
     "data": {
      "image/png": "[encoded data removed]",
      "text/plain": [
       "<Figure size 1440x1440 with 25 Axes>"
      ]
     },
     "metadata": {
      "needs_background": "light"
     },
     "output_type": "display_data"
    }
   ],
   "source": [
    "plt.rcParams['figure.figsize'] = (20.0, 20.0)\n",
    "f, ax = plt.subplots(nrows=1, ncols=25)\n",
    "\n",
    "for i, cut in enumerate(all_cuts[:25]):\n",
    "    ax[i].axis('off')\n",
    "    ax[i].imshow(cut, cmap='gray')\n",
    "    ax[i].set_title(all_labels[i], loc='center')"
   ]
  },
  {
   "cell_type": "code",
   "execution_count": 8,
   "metadata": {},
   "outputs": [
    {
     "data": {
      "text/plain": [
       "((136157, 32, 24), (136157, 1))"
      ]
     },
     "execution_count": 8,
     "metadata": {},
     "output_type": "execute_result"
    }
   ],
   "source": [
    "X = np.array(all_cuts)\n",
    "y = np.array([all_labels]).T\n",
    "X.shape, y.shape"
   ]
  },
  {
   "cell_type": "code",
   "execution_count": 9,
   "metadata": {},
   "outputs": [],
   "source": [
    "X.dump('X.p')\n",
    "y.dump('y.p')"
   ]
  },
  {
   "cell_type": "code",
   "execution_count": 10,
   "metadata": {},
   "outputs": [
    {
     "data": {
      "text/plain": [
       "array([[ 1],\n",
       "       [ 9],\n",
       "       [10],\n",
       "       ...,\n",
       "       [ 9],\n",
       "       [10],\n",
       "       [10]])"
      ]
     },
     "execution_count": 10,
     "metadata": {},
     "output_type": "execute_result"
    }
   ],
   "source": [
    "y_loaded = np.load('y.p')\n",
    "y_loaded"
   ]
  },
  {
   "cell_type": "code",
   "execution_count": 11,
   "metadata": {},
   "outputs": [
    {
     "data": {
      "text/plain": [
       "0"
      ]
     },
     "execution_count": 11,
     "metadata": {},
     "output_type": "execute_result"
    }
   ],
   "source": [
    "np.min(y_loaded)"
   ]
  },
  {
   "cell_type": "code",
   "execution_count": null,
   "metadata": {},
   "outputs": [],
   "source": []
  }
 ],
 "metadata": {
  "kernelspec": {
   "display_name": "Python [conda env:cv_proj]",
   "language": "python",
   "name": "conda-env-cv_proj-py"
  },
  "language_info": {
   "codemirror_mode": {
    "name": "ipython",
    "version": 3
   },
   "file_extension": ".py",
   "mimetype": "text/x-python",
   "name": "python",
   "nbconvert_exporter": "python",
   "pygments_lexer": "ipython3",
   "version": "3.6.7"
  }
 },
 "nbformat": 4,
 "nbformat_minor": 2
}
